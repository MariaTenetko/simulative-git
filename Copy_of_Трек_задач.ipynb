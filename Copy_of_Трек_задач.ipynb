{
  "nbformat": 4,
  "nbformat_minor": 0,
  "metadata": {
    "colab": {
      "provenance": [],
      "include_colab_link": true
    },
    "kernelspec": {
      "name": "python3",
      "display_name": "Python 3"
    },
    "language_info": {
      "name": "python"
    }
  },
  "cells": [
    {
      "cell_type": "markdown",
      "metadata": {
        "id": "view-in-github",
        "colab_type": "text"
      },
      "source": [
        "<a href=\"https://colab.research.google.com/github/MariaTenetko/simulative-git/blob/master/Copy_of_%D0%A2%D1%80%D0%B5%D0%BA_%D0%B7%D0%B0%D0%B4%D0%B0%D1%87.ipynb\" target=\"_parent\"><img src=\"https://colab.research.google.com/assets/colab-badge.svg\" alt=\"Open In Colab\"/></a>"
      ]
    },
    {
      "cell_type": "markdown",
      "source": [
        "## **2 кейс**\n",
        "\n",
        "**Трек задач**"
      ],
      "metadata": {
        "id": "XUqCUBW5fUST"
      }
    },
    {
      "cell_type": "markdown",
      "source": [
        "### **Решения**"
      ],
      "metadata": {
        "id": "CxmnD3GvffQ4"
      }
    },
    {
      "cell_type": "markdown",
      "source": [
        "#### **Задача 1**\n",
        "\n",
        "Для начала определите классы `Task` и `Project`."
      ],
      "metadata": {
        "id": "5bdLXu2ksLB7"
      }
    },
    {
      "cell_type": "markdown",
      "source": [
        "**Решение**\n",
        "\n",
        "Напишите свое решение ниже"
      ],
      "metadata": {
        "id": "qUL4LtIUnJge"
      }
    },
    {
      "cell_type": "code",
      "source": [
        "class Task:\n",
        "  def __init__(self, task_id, name, description, status, duration):\n",
        "    self.task_id = task_id\n",
        "    self.name = name\n",
        "    self.description = description\n",
        "    self.status = status\n",
        "    self.duration = duration\n",
        "\n",
        "  def get_name(self):\n",
        "    return self.name\n",
        "\n",
        "  def get_description(self):\n",
        "    return self.description\n",
        "\n",
        "  def get_status(self):\n",
        "    return self.status"
      ],
      "metadata": {
        "id": "Ia39hhmZbNRW"
      },
      "execution_count": 5,
      "outputs": []
    },
    {
      "cell_type": "code",
      "source": [
        "class Project:\n",
        "  def __init__(self):\n",
        "    self.tasks = []\n",
        "\n",
        "  def get_name(self,name):\n",
        "    name = task.name\n",
        "\n",
        "  def add_task(self, task):\n",
        "    self.tasks.append(task)\n",
        "\n",
        "  def remove_task(self, task_id):\n",
        "    self.task_id = task_id\n",
        "    for i in self.tasks:\n",
        "      if i.task_id == task_id:\n",
        "        self.tasks.remove(task_id)\n",
        "\n",
        "  def get_all_tasks(self):\n",
        "    result = []\n",
        "    for task in self.tasks:\n",
        "      result.append((task.name, task.description, task.status))\n",
        "\n",
        "    return result\n",
        "\n",
        "  def __iter__(self):\n",
        "    for task in self.tasks:\n",
        "      yield task\n"
      ],
      "metadata": {
        "id": "i-cVKsFc-4fS"
      },
      "execution_count": 6,
      "outputs": []
    },
    {
      "cell_type": "code",
      "source": [
        "#@title ✏️ Проверка: чтобы проверить свое решение запустите код в этой ячейке\n",
        "task1 = Task(1, \"Задача 1\", \"Описание\", \"Выполняется\", 14)\n",
        "task2 = Task(2, \"Задача 2\", \"Описание\", \"Выполняется\", 8)\n",
        "task3 = Task(3, \"Задача 3\", \"Описание\", \"Завершена\", 3)\n",
        "task4 = Task(4, \"Задача 4\", \"Описание: срочно\", \"Выполняется\", 7)\n",
        "\n",
        "project = Project()\n",
        "project.add_task(task1)\n",
        "project.add_task(task2)\n",
        "project.add_task(task3)\n",
        "project.add_task(task4)\n",
        "\n",
        "res = []\n",
        "for task in project:\n",
        "  name = task.get_name()\n",
        "  description = task.get_description()\n",
        "  status = task.get_status()\n",
        "  res.append((name, description, status))\n",
        "\n",
        "try:\n",
        "    assert res == [('Задача 1', 'Описание', 'Выполняется'),\n",
        "                   ('Задача 2', 'Описание', 'Выполняется'),\n",
        "                   ('Задача 3', 'Описание', 'Завершена'),\n",
        "                   ('Задача 4', 'Описание: срочно', 'Выполняется')]\n",
        "except AssertionError:\n",
        "    print('Ответы не совпадают')\n",
        "else:\n",
        "    print('Поздравляем, Вы справились!')"
      ],
      "metadata": {
        "id": "LkqzVw9skKEC",
        "colab": {
          "base_uri": "https://localhost:8080/"
        },
        "outputId": "ebcd677b-4814-46d2-a154-dc599baa7007"
      },
      "execution_count": 7,
      "outputs": [
        {
          "output_type": "stream",
          "name": "stdout",
          "text": [
            "Поздравляем, Вы справились!\n"
          ]
        }
      ]
    },
    {
      "cell_type": "markdown",
      "source": [
        "#### **Задача 2**\n",
        "\n",
        "Определите класс `Analysis`."
      ],
      "metadata": {
        "id": "QLNMvvhXoIdV"
      }
    },
    {
      "cell_type": "markdown",
      "source": [
        "**Решение**\n",
        "\n",
        "Напишите свое решение ниже"
      ],
      "metadata": {
        "id": "LThhpSINoMHN"
      }
    },
    {
      "cell_type": "code",
      "source": [
        "class Analysis:\n",
        "  @staticmethod\n",
        "  def count_tasks(project):\n",
        "    cnt = 0\n",
        "    for task in project:\n",
        "      cnt += 1\n",
        "\n",
        "    return cnt\n",
        "\n",
        "  @staticmethod\n",
        "  def count_tasks_by_status(project, status):\n",
        "    cnt = 0\n",
        "    for task in project:\n",
        "      if status == task.status:\n",
        "        cnt += 1\n",
        "\n",
        "    return cnt\n",
        "\n",
        "  @staticmethod\n",
        "  def find_longest_task(project):\n",
        "    longest_task = None\n",
        "    max_duration = 0\n",
        "\n",
        "    for task in project:\n",
        "      if task.duration >= max_duration:\n",
        "        max_duration = task.duration\n",
        "        longest_task = task\n",
        "      else:\n",
        "        continue\n",
        "\n",
        "    return longest_task\n",
        "\n",
        "r =  Analysis.count_tasks_by_status(project, \"Выполняется\")\n",
        "print(r)"
      ],
      "metadata": {
        "id": "9s8JBMlboJuf",
        "colab": {
          "base_uri": "https://localhost:8080/"
        },
        "outputId": "04b06bc6-7ed6-4bd1-e9c2-e7d65bd2b213"
      },
      "execution_count": 8,
      "outputs": [
        {
          "output_type": "stream",
          "name": "stdout",
          "text": [
            "3\n"
          ]
        }
      ]
    },
    {
      "cell_type": "code",
      "source": [
        "#@title ✏️ Проверка: чтобы проверить свое решение запустите код в этой ячейке\n",
        "res2 = Analysis.count_tasks(project)\n",
        "res3 = Analysis.count_tasks_by_status(project, \"Выполняется\")\n",
        "res4 = Analysis.find_longest_task(project).get_name()\n",
        "\n",
        "try:\n",
        "    assert res2 == 4\n",
        "    assert res3 == 3\n",
        "    assert res4 == 'Задача 1'\n",
        "except AssertionError:\n",
        "    print('Ответы не совпадают')\n",
        "else:\n",
        "    print('Поздравляем, Вы справились!')"
      ],
      "metadata": {
        "colab": {
          "base_uri": "https://localhost:8080/"
        },
        "id": "a36bM9j9tD7l",
        "outputId": "40fc01fa-e27d-40e2-e335-6d3df6dc749f"
      },
      "execution_count": 9,
      "outputs": [
        {
          "output_type": "stream",
          "name": "stdout",
          "text": [
            "Поздравляем, Вы справились!\n"
          ]
        }
      ]
    },
    {
      "cell_type": "markdown",
      "source": [
        "#### **Задача 3**\n",
        "\n",
        "Напишите `EnhancedAnalysis`"
      ],
      "metadata": {
        "id": "AwB-HtPLtjyl"
      }
    },
    {
      "cell_type": "markdown",
      "source": [
        "**Решение**\n",
        "\n",
        "Напишите свое решение ниже"
      ],
      "metadata": {
        "id": "GOTB--hmt2xw"
      }
    },
    {
      "cell_type": "code",
      "source": [
        "class EnhancedAnalysis(Analysis):\n",
        "  @staticmethod\n",
        "  def find_tasks_with_keywords(project, keywords):\n",
        "    found_tasks = []\n",
        "    for task in project:\n",
        "      name = task.get_name()\n",
        "      description = task.get_description()\n",
        "      for keyword in keywords:\n",
        "        if keyword in description or keyword in name:\n",
        "          found_tasks.append(task)\n",
        "\n",
        "    return found_tasks\n",
        "\n",
        "e = EnhancedAnalysis\n",
        "keywords = [\"срочно\", \"asap\"]\n",
        "print(e.find_tasks_with_keywords(project, keywords))"
      ],
      "metadata": {
        "id": "fz7nRb_ntKMv",
        "colab": {
          "base_uri": "https://localhost:8080/"
        },
        "outputId": "cf84b679-59f0-4fcb-959a-cd1e1b9c8670"
      },
      "execution_count": 39,
      "outputs": [
        {
          "output_type": "stream",
          "name": "stdout",
          "text": [
            "[<__main__.Task object at 0x7dd1a8238ad0>]\n"
          ]
        }
      ]
    },
    {
      "cell_type": "code",
      "source": [
        "#@title ✏️ Проверка: чтобы проверить свое решение запустите код в этой ячейке\n",
        "keywords = [\"срочно\"]\n",
        "found_tasks = EnhancedAnalysis.find_tasks_with_keywords(project, keywords)\n",
        "res5 = []\n",
        "for task in found_tasks:\n",
        "  res5.append(task.get_name())\n",
        "\n",
        "try:\n",
        "    assert res5 == ['Задача 4']\n",
        "except AssertionError:\n",
        "    print('Ответы не совпадают')\n",
        "else:\n",
        "    print('Поздравляем, Вы справились!')"
      ],
      "metadata": {
        "id": "KzV-hUKcvxb2",
        "colab": {
          "base_uri": "https://localhost:8080/"
        },
        "outputId": "767846b2-8e9f-4259-fc7c-8df42ca37b3f"
      },
      "execution_count": 40,
      "outputs": [
        {
          "output_type": "stream",
          "name": "stdout",
          "text": [
            "Поздравляем, Вы справились!\n"
          ]
        }
      ]
    }
  ]
}