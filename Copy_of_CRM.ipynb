{
  "nbformat": 4,
  "nbformat_minor": 0,
  "metadata": {
    "colab": {
      "provenance": [],
      "include_colab_link": true
    },
    "kernelspec": {
      "name": "python3",
      "display_name": "Python 3"
    },
    "language_info": {
      "name": "python"
    }
  },
  "cells": [
    {
      "cell_type": "markdown",
      "metadata": {
        "id": "view-in-github",
        "colab_type": "text"
      },
      "source": [
        "<a href=\"https://colab.research.google.com/github/MariaTenetko/simulative-git/blob/master/Copy_of_CRM.ipynb\" target=\"_parent\"><img src=\"https://colab.research.google.com/assets/colab-badge.svg\" alt=\"Open In Colab\"/></a>"
      ]
    },
    {
      "cell_type": "markdown",
      "source": [
        "## **3 кейс**\n",
        "\n",
        "**CRM**"
      ],
      "metadata": {
        "id": "XUqCUBW5fUST"
      }
    },
    {
      "cell_type": "markdown",
      "source": [
        "### **Решения**"
      ],
      "metadata": {
        "id": "CxmnD3GvffQ4"
      }
    },
    {
      "cell_type": "markdown",
      "source": [
        "#### **Задача 1**\n",
        "\n",
        "Создайте класс `Lead`."
      ],
      "metadata": {
        "id": "5bdLXu2ksLB7"
      }
    },
    {
      "cell_type": "markdown",
      "source": [
        "**Решение**\n",
        "\n",
        "Напишите свое решение ниже"
      ],
      "metadata": {
        "id": "qUL4LtIUnJge"
      }
    },
    {
      "cell_type": "code",
      "source": [
        "class Lead:\n",
        "  def __init__(self, lead_id, datetime, page, form_title, contacts, name):\n",
        "    self.lead_id = lead_id\n",
        "    self.datetime = datetime\n",
        "    self.page = page\n",
        "    self.form_title = form_title\n",
        "    self.contacts = contacts\n",
        "    self.name = name\n",
        "\n",
        "  def to_dict(self):\n",
        "    return {\"lead_id\": self.lead_id,\n",
        "            \"datetime\": self.datetime,\n",
        "            \"page\": self.page,\n",
        "            \"form_title\": self.form_title,\n",
        "            \"contacts\": self.contacts,\n",
        "            \"name\": self.name}\n",
        "\n"
      ],
      "metadata": {
        "id": "Ia39hhmZbNRW"
      },
      "execution_count": 5,
      "outputs": []
    },
    {
      "cell_type": "markdown",
      "source": [
        "✏️ ✏️ ✏️\n",
        "\n",
        "**Проверка**\n",
        "\n",
        "Чтобы проверить свое решение, запустите код в следующих ячейках"
      ],
      "metadata": {
        "id": "54Tvpn9OkDwV"
      }
    },
    {
      "cell_type": "code",
      "source": [
        "lead = Lead(1, '2023-07-01 10:00', 'example.com', 'Обратная связь', 'ivan@example.com', 'Иван Иванов')\n",
        "res = lead.to_dict()\n",
        "\n",
        "try:\n",
        "    assert res == {'lead_id': 1,\n",
        "                   'datetime': '2023-07-01 10:00',\n",
        "                   'page': 'example.com',\n",
        "                   'form_title': 'Обратная связь',\n",
        "                   'contacts': 'ivan@example.com',\n",
        "                   'name': 'Иван Иванов'}\n",
        "except AssertionError:\n",
        "    print('Ответы не совпадают')\n",
        "else:\n",
        "    print('Поздравляем, Вы справились!')"
      ],
      "metadata": {
        "id": "LkqzVw9skKEC",
        "colab": {
          "base_uri": "https://localhost:8080/"
        },
        "outputId": "8af37028-a836-4db8-9c1e-f4d5c89a8976"
      },
      "execution_count": 6,
      "outputs": [
        {
          "output_type": "stream",
          "name": "stdout",
          "text": [
            "Поздравляем, Вы справились!\n"
          ]
        }
      ]
    },
    {
      "cell_type": "markdown",
      "source": [
        "#### **Задача 2**\n",
        "\n",
        "Создайте класс `Simulator`."
      ],
      "metadata": {
        "id": "QLNMvvhXoIdV"
      }
    },
    {
      "cell_type": "markdown",
      "source": [
        "**Решение**\n",
        "\n",
        "Напишите свое решение ниже"
      ],
      "metadata": {
        "id": "LThhpSINoMHN"
      }
    },
    {
      "cell_type": "code",
      "source": [
        "class Simulator:\n",
        "  def __init__(self, simulator_type, version):\n",
        "    self.simulator_type = simulator_type\n",
        "    self.version = version\n",
        "\n",
        "  def to_dict(self):\n",
        "    return {\n",
        "        \"simulator_type\": self.simulator_type,\n",
        "        \"version\": self.version\n",
        "        }"
      ],
      "metadata": {
        "id": "9s8JBMlboJuf"
      },
      "execution_count": 7,
      "outputs": []
    },
    {
      "cell_type": "markdown",
      "source": [
        "✏️ ✏️ ✏️\n",
        "\n",
        "**Проверка**\n",
        "\n",
        "Чтобы проверить свое решение, запустите код в следующих ячейках"
      ],
      "metadata": {
        "id": "GN_PNZICsxRD"
      }
    },
    {
      "cell_type": "code",
      "source": [
        "simulator = Simulator('Type A', '1.0')\n",
        "res2 = simulator.to_dict()\n",
        "\n",
        "try:\n",
        "    assert res2 == {'simulator_type': 'Type A', 'version': '1.0'}\n",
        "except AssertionError:\n",
        "    print('Ответы не совпадают')\n",
        "else:\n",
        "    print('Поздравляем, Вы справились!')"
      ],
      "metadata": {
        "colab": {
          "base_uri": "https://localhost:8080/"
        },
        "id": "a36bM9j9tD7l",
        "outputId": "76846746-8f57-465c-8970-b95d7dd4abbd"
      },
      "execution_count": 8,
      "outputs": [
        {
          "output_type": "stream",
          "name": "stdout",
          "text": [
            "Поздравляем, Вы справились!\n"
          ]
        }
      ]
    },
    {
      "cell_type": "markdown",
      "source": [
        "#### **Задача 3**\n",
        "\n",
        "Определите класс `SalesFunnel`. Пока без метода `process_lead`."
      ],
      "metadata": {
        "id": "AwB-HtPLtjyl"
      }
    },
    {
      "cell_type": "markdown",
      "source": [
        "**Решение**\n",
        "\n",
        "Напишите свое решение ниже"
      ],
      "metadata": {
        "id": "GOTB--hmt2xw"
      }
    },
    {
      "cell_type": "code",
      "source": [
        "import requests\n",
        "\n",
        "class SalesFunnel:\n",
        "  def __init__(self):\n",
        "    self.stages = []\n",
        "\n",
        "  def add_stage(self, stage):\n",
        "    self.stages.append(stage)\n",
        "\n",
        "  def process_lead(self, lead):\n",
        "    crm_url = \"https://itresume.com/crm/api/leads\"\n",
        "    crm_params = {\n",
        "        'lead_id': lead.lead_id,\n",
        "        'datetime': lead.datetime,\n",
        "        'page': lead.page,\n",
        "        'form_title': lead.form_title,\n",
        "        'contacts': lead.contacts,\n",
        "        'name': lead.name\n",
        "    }\n",
        "    response = requests.post(crm_url, json=crm_params)\n",
        "    return response.text\n",
        "\n"
      ],
      "metadata": {
        "id": "fz7nRb_ntKMv"
      },
      "execution_count": 33,
      "outputs": []
    },
    {
      "cell_type": "markdown",
      "source": [
        "✏️ ✏️ ✏️\n",
        "\n",
        "**Проверка**\n",
        "\n",
        "Чтобы проверить свое решение, запустите код в следующих ячейках"
      ],
      "metadata": {
        "id": "0-7TiI06t8D0"
      }
    },
    {
      "cell_type": "code",
      "source": [
        "funnel = SalesFunnel()\n",
        "funnel.add_stage('Stage 1')\n",
        "funnel.add_stage('Stage 2')\n",
        "funnel.add_stage('Stage 3')\n",
        "res3 = funnel.stages\n",
        "\n",
        "try:\n",
        "    assert res3 == ['Stage 1', 'Stage 2', 'Stage 3']\n",
        "except AssertionError:\n",
        "    print('Ответы не совпадают')\n",
        "else:\n",
        "    print('Поздравляем, Вы справились!')"
      ],
      "metadata": {
        "colab": {
          "base_uri": "https://localhost:8080/"
        },
        "id": "KzV-hUKcvxb2",
        "outputId": "12ab19d3-2893-44cb-ba46-9295956c3a0c"
      },
      "execution_count": 34,
      "outputs": [
        {
          "output_type": "stream",
          "name": "stdout",
          "text": [
            "Поздравляем, Вы справились!\n"
          ]
        }
      ]
    },
    {
      "cell_type": "markdown",
      "source": [
        "#### **Задача 4**\n",
        "\n",
        "К классу `SalesFunnel` добавьте метод `process_lead`."
      ],
      "metadata": {
        "id": "CgRs9f--z9N-"
      }
    },
    {
      "cell_type": "markdown",
      "source": [
        "**Решение**\n",
        "\n",
        "Напишите свое решение ниже"
      ],
      "metadata": {
        "id": "HAC66WJB0DtG"
      }
    },
    {
      "cell_type": "code",
      "source": [
        "import requests\n",
        "\n",
        "class SalesFunnel:\n",
        "  def __init__(self, stages):\n",
        "    self.stages = stages\n",
        "    self.logs = []\n",
        "\n",
        "  def process_lead(self, lead):\n",
        "    crm_url = \"https://itresume.com/crm/api/leads\"\n",
        "    crm_params = {\n",
        "        'lead_id': lead.lead_id,\n",
        "        'datetime': lead.datetime,\n",
        "        'page': lead.page,\n",
        "        'form_title': lead.form_title,\n",
        "        'contacts': lead.contacts,\n",
        "        'name': lead.name\n",
        "    }\n",
        "\n",
        "    for index, stage in enumerate(self.stages):\n",
        "      self.logs.append(f\"Обработка лида {lead.lead_id} - Текущий этап: {stage}\")\n",
        "\n",
        "      response = requests.post(crm_url, json=crm_params)\n",
        "      if response.status_code == 200:\n",
        "        self.logs.append('Данные лида успешно отправлены в CRM')\n",
        "\n",
        "      else:\n",
        "        self.logs.append('Не удалось отправить данные лида в CRM')\n",
        "        next_stage = self.stages[index + 1]\n",
        "        self.logs.append(f\"Перемещаем лид {lead.lead_id} на следующий этап: {next_stage}\")\n",
        "        break\n",
        "\n",
        "    return self.logs\n",
        "\n",
        "sales_funnel = SalesFunnel([\"Генерация лида\", \"Подтверждение\", \"Предложение\", \"Возражение\"])\n",
        "lead = Lead(\"123\", \"2023-07-01\", \"example.com\", \"Свяжитесь с нами\", \"ivan@example.com\", \"Иван Иванов\")\n",
        "res4 = sales_funnel.process_lead(lead)\n",
        "print(res4)\n",
        "\n",
        "      #  assert res4 == ['Обработка лида 123 - Текущий этап: Генерация лида',\n",
        "      #               'Не удалось отправить данные лида в CRM',\n",
        "      #               'Перемещаем лид 123 на следующий этап: Подтверждение']\n",
        "\n",
        ""
      ],
      "metadata": {
        "id": "63tUPEeLz5e1",
        "colab": {
          "base_uri": "https://localhost:8080/"
        },
        "outputId": "283749b8-3ace-4a8a-d96d-966fc9792fe2"
      },
      "execution_count": 47,
      "outputs": [
        {
          "output_type": "stream",
          "name": "stdout",
          "text": [
            "['Обработка лида 123 - Текущий этап: Генерация лида', 'Не удалось отправить данные лида в CRM', 'Перемещаем лид 123 на следующий этап: Подтверждение']\n"
          ]
        }
      ]
    },
    {
      "cell_type": "markdown",
      "source": [
        "✏️ ✏️ ✏️\n",
        "\n",
        "**Проверка**\n",
        "\n",
        "Чтобы проверить свое решение, запустите код в следующих ячейках"
      ],
      "metadata": {
        "id": "wAeUY7ey0JGJ"
      }
    },
    {
      "cell_type": "code",
      "source": [
        "sales_funnel = SalesFunnel([\"Генерация лида\", \"Подтверждение\", \"Предложение\", \"Возражение\"])\n",
        "lead = Lead(\"123\", \"2023-07-01\", \"example.com\", \"Свяжитесь с нами\", \"ivan@example.com\", \"Иван Иванов\")\n",
        "res4 = sales_funnel.process_lead(lead)\n",
        "\n",
        "try:\n",
        "    assert res4 == ['Обработка лида 123 - Текущий этап: Генерация лида',\n",
        "                    'Не удалось отправить данные лида в CRM',\n",
        "                    'Перемещаем лид 123 на следующий этап: Подтверждение']\n",
        "except AssertionError:\n",
        "    print('Ответы не совпадают')\n",
        "else:\n",
        "    print('Поздравляем, Вы справились!')"
      ],
      "metadata": {
        "colab": {
          "base_uri": "https://localhost:8080/"
        },
        "id": "e2nVbdAn1IjH",
        "outputId": "8ad82db8-1b79-4639-f347-f4f47f0e7211"
      },
      "execution_count": 48,
      "outputs": [
        {
          "output_type": "stream",
          "name": "stdout",
          "text": [
            "Поздравляем, Вы справились!\n"
          ]
        }
      ]
    },
    {
      "cell_type": "code",
      "source": [],
      "metadata": {
        "id": "5TrEuC1O1dmg"
      },
      "execution_count": null,
      "outputs": []
    }
  ]
}